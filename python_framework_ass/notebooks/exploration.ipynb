{
 "cells": [
  {
   "cell_type": "code",
   "execution_count": null,
   "id": "7f4d8423",
   "metadata": {
    "vscode": {
     "languageId": "plaintext"
    }
   },
   "outputs": [],
   "source": [
    "import pandas as pd\n",
    "import matplotlib.pyplot as plt\n",
    "import seaborn as sns\n",
    "from wordcloud import WordCloud\n",
    "\n",
    "\n",
    "# Load data\n",
    "df = pd.read_csv(\"../data/metadata.csv\")\n",
    "\n",
    "\n",
    "# Explore\n",
    "print(df.shape)\n",
    "print(df.info())\n",
    "print(df.isnull().sum().head())\n",
    "\n",
    "\n",
    "# Clean\n",
    "df['publish_time'] = pd.to_datetime(df['publish_time'], errors='coerce')\n",
    "df['year'] = df['publish_time'].dt.year\n",
    "df['abstract_word_count'] = df['abstract'].fillna(\"\").apply(lambda x: len(x.split()))\n",
    "\n",
    "\n",
    "# Analysis\n",
    "year_counts = df['year'].value_counts().sort_index()\n",
    "year_counts.plot(kind='bar')\n",
    "plt.title(\"Publications by Year\")\n",
    "plt.show()\n",
    "\n",
    "\n",
    "# Top Journals\n",
    "journals = df['journal'].value_counts().head(10)\n",
    "plt.figure(figsize=(8,5))\n",
    "journals.plot(kind='barh')\n",
    "plt.title(\"Top Journals\")\n",
    "plt.show()\n",
    "\n",
    "\n",
    "# Word cloud\n",
    "titles = \" \".join(df['title'].dropna().astype(str))\n",
    "wordcloud = WordCloud(width=800, height=400, background_color='white').generate(titles)\n",
    "plt.imshow(wordcloud, interpolation='bilinear')\n",
    "plt.axis(\"off\")\n",
    "plt.show()"
   ]
  }
 ],
 "metadata": {
  "language_info": {
   "name": "python"
  }
 },
 "nbformat": 4,
 "nbformat_minor": 5
}
